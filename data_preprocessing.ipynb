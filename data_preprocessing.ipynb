{
 "cells": [
  {
   "cell_type": "markdown",
   "metadata": {},
   "source": [
    "'''<br>\n",
    "@Author: Rahul <br>\n",
    "@Date: 2024-11-08<br>\n",
    "@Last Modified by: Rahul <br>\n",
    "@Last Modified time: 2024-11-08<br>\n",
    "@Title: Python program for Data Preprocessing <br>\n",
    "'''"
   ]
  },
  {
   "cell_type": "code",
   "execution_count": 31,
   "metadata": {},
   "outputs": [],
   "source": [
    "import numpy as np\n",
    "import pandas as pd\n",
    "import matplotlib as mp\n",
    "from sklearn.preprocessing import LabelEncoder\n",
    "from sklearn.model_selection import train_test_split\n",
    "from sklearn.preprocessing import StandardScaler"
   ]
  },
  {
   "cell_type": "code",
   "execution_count": 32,
   "metadata": {},
   "outputs": [
    {
     "name": "stdout",
     "output_type": "stream",
     "text": [
      "   Country   Age   Salary Purchased\n",
      "0   France  44.0  72000.0        No\n",
      "1    Spain  27.0  48000.0       Yes\n",
      "2  Germany  30.0  54000.0        No\n",
      "3    Spain  38.0  61000.0        No\n",
      "4  Germany  40.0      NaN       Yes\n",
      "5   France  35.0  58000.0       Yes\n",
      "6    Spain   NaN  52000.0        No\n",
      "7   France  48.0  79000.0       Yes\n",
      "8  Germany  50.0  83000.0        No\n",
      "9   France  37.0  67000.0       Yes\n"
     ]
    }
   ],
   "source": [
    "dataset = pd.read_csv('Data.csv')\n",
    "print(dataset)"
   ]
  },
  {
   "cell_type": "markdown",
   "metadata": {},
   "source": [
    "Handling Missing Data"
   ]
  },
  {
   "cell_type": "code",
   "execution_count": 33,
   "metadata": {},
   "outputs": [
    {
     "name": "stdout",
     "output_type": "stream",
     "text": [
      "   Country   Age   Salary Purchased\n",
      "0   France  44.0  72000.0        No\n",
      "1    Spain  27.0  48000.0       Yes\n",
      "2  Germany  30.0  54000.0        No\n",
      "3    Spain  38.0  61000.0        No\n",
      "5   France  35.0  58000.0       Yes\n",
      "7   France  48.0  79000.0       Yes\n",
      "8  Germany  50.0  83000.0        No\n",
      "9   France  37.0  67000.0       Yes\n"
     ]
    }
   ],
   "source": [
    "# Drop rows with missing values in specific columns\n",
    "dataset=dataset.dropna(subset=['Age']).dropna(subset=['Salary'])\n",
    "print(dataset)"
   ]
  },
  {
   "cell_type": "markdown",
   "metadata": {},
   "source": [
    "Handling categorical data"
   ]
  },
  {
   "cell_type": "code",
   "execution_count": 34,
   "metadata": {},
   "outputs": [
    {
     "name": "stdout",
     "output_type": "stream",
     "text": [
      "   Country   Age   Salary  Purchased\n",
      "0   France  44.0  72000.0          0\n",
      "1    Spain  27.0  48000.0          1\n",
      "2  Germany  30.0  54000.0          0\n",
      "3    Spain  38.0  61000.0          0\n",
      "5   France  35.0  58000.0          1\n",
      "7   France  48.0  79000.0          1\n",
      "8  Germany  50.0  83000.0          0\n",
      "9   France  37.0  67000.0          1\n"
     ]
    }
   ],
   "source": [
    "le = LabelEncoder()\n",
    "dataset['Purchased'] = le.fit_transform(dataset['Purchased'])\n",
    "print(dataset)"
   ]
  },
  {
   "cell_type": "markdown",
   "metadata": {},
   "source": [
    "Split the dataset into training set and test set"
   ]
  },
  {
   "cell_type": "code",
   "execution_count": 37,
   "metadata": {},
   "outputs": [
    {
     "name": "stdout",
     "output_type": "stream",
     "text": [
      "Trained Data\n",
      "(4, 3)\n",
      "Tested Data\n",
      "(4, 3)\n"
     ]
    }
   ],
   "source": [
    "# Assuming `X` is the features and `y` is the target variable\n",
    "X = dataset.drop(columns=['Country'])  # Replace 'target_column' with the actual target column name\n",
    "y = dataset['Purchased']\n",
    "\n",
    "# Split the data into 80% training and 20% test sets\n",
    "X_train, X_test, y_train, y_test = train_test_split(X, y, test_size=0.4, random_state=42)\n",
    "print(\"Trained Data\")\n",
    "print(X_train.shape)\n",
    "print('Tested Data')\n",
    "print(X_test.shape)\n"
   ]
  },
  {
   "cell_type": "markdown",
   "metadata": {},
   "source": [
    "Feature scaling"
   ]
  },
  {
   "cell_type": "code",
   "execution_count": 40,
   "metadata": {},
   "outputs": [
    {
     "name": "stdout",
     "output_type": "stream",
     "text": [
      "Scaled Training Data (X_train):\n",
      "        Age    Salary  Purchased\n",
      "2 -1.120739 -0.889108          0\n",
      "5 -0.441503 -0.533465          1\n",
      "3 -0.033962 -0.266733          0\n",
      "8  1.596204  1.689306          0\n"
     ]
    }
   ],
   "source": [
    "scaler = StandardScaler()\n",
    "# X_trained_scaled = scaler.fit_transform(X_train) \n",
    "# X_test_scaled = scaler.transform(X_test)\n",
    "# print('Trained Scaled')\n",
    "# print(X_trained_scaled)\n",
    "# print('Test Scaled')\n",
    "# print(X_test_scaled)\n",
    "\n",
    "X_train[['Age', 'Salary']] = scaler.fit_transform(X_train[['Age', 'Salary']])\n",
    "X_test[['Age', 'Salary']] = scaler.fit_transform(X_test[['Age', 'Salary']])\n",
    "# Display the scaled training and test sets\n",
    "print(\"Scaled Training Data (X_train):\")\n",
    "print(X_train)"
   ]
  }
 ],
 "metadata": {
  "kernelspec": {
   "display_name": "Python 3",
   "language": "python",
   "name": "python3"
  },
  "language_info": {
   "codemirror_mode": {
    "name": "ipython",
    "version": 3
   },
   "file_extension": ".py",
   "mimetype": "text/x-python",
   "name": "python",
   "nbconvert_exporter": "python",
   "pygments_lexer": "ipython3",
   "version": "3.12.4"
  }
 },
 "nbformat": 4,
 "nbformat_minor": 2
}
